{
 "cells": [
  {
   "cell_type": "code",
   "execution_count": 13,
   "metadata": {},
   "outputs": [
    {
     "data": {
      "text/html": [
       "<script>require([\"https://cdn.plot.ly/plotly-latest.min.js\"], function(Plotly) { if (Plotly) window.Plotly = Plotly; })</script>"
      ]
     },
     "execution_count": 13,
     "metadata": {},
     "output_type": "execute_result"
    }
   ],
   "source": [
    "$$.html('<script>require([\"https://cdn.plot.ly/plotly-latest.min.js\"], function(Plotly) { if (Plotly) window.Plotly = Plotly; })</script>');\n",
    "\n",
    "var Plot = require('plotly-notebook-js');\n",
    "var NotebookPlot = Plot.createPlot().constructor;\n",
    "NotebookPlot.prototype._toHtml = NotebookPlot.prototype.render;\n",
    "\n",
    "Plot.createPlot([{ x: [1,2,3], y: [3,4,5] }], { title: 'Plotly in Jupyter!' });"
   ]
  }
 ],
 "metadata": {
  "kernelspec": {
   "display_name": "Javascript (Node.js)",
   "language": "javascript",
   "name": "javascript"
  },
  "language_info": {
   "file_extension": ".js",
   "mimetype": "application/javascript",
   "name": "javascript",
   "version": "6.10.2"
  }
 },
 "nbformat": 4,
 "nbformat_minor": 2
}
